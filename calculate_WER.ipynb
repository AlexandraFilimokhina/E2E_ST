{
 "cells": [
  {
   "cell_type": "code",
   "execution_count": 2,
   "metadata": {},
   "outputs": [
    {
     "name": "stdout",
     "output_type": "stream",
     "text": [
      "Dataset: dev-clean, WER: 0.03463\n",
      "Dataset: test-clean, WER: 0.03688\n"
     ]
    }
   ],
   "source": [
    "import pandas as pd\n",
    "from jiwer import wer\n",
    "\n",
    "datasets = ['dev-clean', 'test-clean']\n",
    "for dataset in datasets:\n",
    "    df = pd.read_csv(f\"{dataset}.csv\")\n",
    "    ground_truth, hypothesis = df[\"0\"].to_list(), df[\"1\"].to_list()\n",
    "    score = wer(ground_truth, hypothesis)\n",
    "    print(f\"Dataset: {dataset}, WER: {score:.5f}\")"
   ]
  }
 ],
 "metadata": {
  "kernelspec": {
   "display_name": "Python 3",
   "language": "python",
   "name": "python3"
  },
  "language_info": {
   "codemirror_mode": {
    "name": "ipython",
    "version": 3
   },
   "file_extension": ".py",
   "mimetype": "text/x-python",
   "name": "python",
   "nbconvert_exporter": "python",
   "pygments_lexer": "ipython3",
   "version": "3.8.3"
  }
 },
 "nbformat": 4,
 "nbformat_minor": 4
}
