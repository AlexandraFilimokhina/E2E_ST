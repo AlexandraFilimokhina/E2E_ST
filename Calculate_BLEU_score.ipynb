{
 "cells": [
  {
   "cell_type": "code",
   "execution_count": 1,
   "metadata": {},
   "outputs": [],
   "source": [
    "import glob\n",
    "import os\n",
    "import re\n",
    "from tqdm import tqdm\n",
    "from nltk.translate.bleu_score import corpus_bleu"
   ]
  },
  {
   "cell_type": "code",
   "execution_count": 2,
   "metadata": {},
   "outputs": [],
   "source": [
    "cwd = os.getcwd()"
   ]
  },
  {
   "cell_type": "code",
   "execution_count": 3,
   "metadata": {},
   "outputs": [],
   "source": [
    "ref_folder_name='LibriTranslatedNoCommas' #folder with reference translations\n",
    "mt_folder_name ='LibriTranslatedJasper' #folder with translations of the Jasper output text\n",
    "#ref_folder_name and mt_folder_name should be in the same directory as the notebook\n",
    "datasets = ['dev-clean', 'test-clean']"
   ]
  },
  {
   "cell_type": "code",
   "execution_count": 4,
   "metadata": {},
   "outputs": [],
   "source": [
    "def process_line(line):\n",
    "    #remove punctuation marks and split line into audio and text \n",
    "    line = re.sub(r'[^\\w\\s]', '', line)\n",
    "    line = line.replace('\\n', '')\n",
    "    line_audio, line_text = line.split(' ', 1)\n",
    "    return line_audio, line_text\n",
    "\n",
    "def preprocess_mt_and_refs(dataset_name): \n",
    "    #collect mt translation and it's reference  \n",
    "    references = glob.glob(os.path.join(cwd, f'{ref_folder_name}/{dataset_name}/**/**/*.txt'))\n",
    "    mts = glob.glob(os.path.join(cwd, f'{mt_folder_name}/{dataset_name}/**/**/*.trans_jasper.txt'))\n",
    "    mt_predictions, references  = [], []\n",
    "    for mt_txt in tqdm(mts, position=0, leave=False):\n",
    "        path_folder = mt_txt.split('.trans_jasper.txt')[0].split(dataset_name)[1]\n",
    "        ref_txt = cwd + f'/{ref_folder_name}/{dataset_name}'+ path_folder +'.trans.txt'\n",
    "\n",
    "        with open(mt_txt, 'r') as mt_file:\n",
    "            mt_lines = mt_file.readlines()\n",
    "        with open(ref_txt, 'r') as ref_file:\n",
    "            ref_lines = ref_file.readlines()\n",
    "        for mt, ref in zip(mt_lines, ref_lines):\n",
    "\n",
    "            mt_audio, mt_text = process_line(mt)\n",
    "            ref_audio, ref_text = process_line(ref)\n",
    "\n",
    "            assert mt_audio == ref_audio\n",
    "            mt_predictions.append(mt_text.split(' '))\n",
    "            references.append([ref_text.split(' ')])\n",
    "    return references, mt_predictions"
   ]
  },
  {
   "cell_type": "code",
   "execution_count": 5,
   "metadata": {},
   "outputs": [
    {
     "name": "stderr",
     "output_type": "stream",
     "text": [
      "                                      "
     ]
    },
    {
     "name": "stdout",
     "output_type": "stream",
     "text": [
      "Dataset: dev-clean, BLUE score: 0.849\n"
     ]
    },
    {
     "name": "stderr",
     "output_type": "stream",
     "text": [
      "\r"
     ]
    },
    {
     "name": "stdout",
     "output_type": "stream",
     "text": [
      "Dataset: test-clean, BLUE score: 0.851\n"
     ]
    }
   ],
   "source": [
    "for dataset in datasets:\n",
    "    references, mt_predictions = preprocess_mt_and_refs(dataset)\n",
    "    score = corpus_bleu(references, mt_predictions)\n",
    "    print(f\"Dataset: {dataset}, BLUE score: {score:.3f}\")"
   ]
  }
 ],
 "metadata": {
  "kernelspec": {
   "display_name": "Python 3",
   "language": "python",
   "name": "python3"
  },
  "language_info": {
   "codemirror_mode": {
    "name": "ipython",
    "version": 3
   },
   "file_extension": ".py",
   "mimetype": "text/x-python",
   "name": "python",
   "nbconvert_exporter": "python",
   "pygments_lexer": "ipython3",
   "version": "3.8.3"
  }
 },
 "nbformat": 4,
 "nbformat_minor": 4
}
