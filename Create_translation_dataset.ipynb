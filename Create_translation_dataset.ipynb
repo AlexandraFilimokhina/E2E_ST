{
 "cells": [
  {
   "cell_type": "code",
   "execution_count": 1,
   "metadata": {},
   "outputs": [],
   "source": [
    "import os \n",
    "import re\n",
    "import codecs\n",
    "import numpy as np\n",
    "import pandas as pd\n",
    "\n",
    "from tqdm import tqdm\n",
    "from sklearn.metrics.pairwise import cosine_similarity\n",
    "from sentence_transformers import SentenceTransformer"
   ]
  },
  {
   "cell_type": "markdown",
   "metadata": {},
   "source": [
    "Берем книгу с сайта: https://studyenglishwords.com/book/Кентервильское-привидение/109?page=1 и скачиваем html **EN->RU**"
   ]
  },
  {
   "cell_type": "code",
   "execution_count": 2,
   "metadata": {},
   "outputs": [],
   "source": [
    "MIN_SENTENCE_LEN = 3\n",
    "LOW_SEM_TH, HIGH_SEM_TH = 0.7, 0.98\n",
    "BOOK_NAME = \"Martin-Iden\"\n",
    "PATH_TO_HTML = f\"{BOOK_NAME}.html\"\n",
    "PATH_TO_OUTPUT_ENG_TXT = 'MartinIden_trans/test_eng.txt'\n",
    "PATH_TO_OUTPUT_RUS_TXT = 'MartinIden_trans/test_rus.txt'\n",
    "PATH_TO_TRANSLATED_ENG_TXT = 'MartinIden_trans/test_eng_translation.txt'\n",
    "MULTILINGUAL_SEM_MODEL = 'distiluse-base-multilingual-cased-v2'\n",
    "PATH_TO_OUTPUT_CSV = f'MartinIden_trans/translated_{BOOK_NAME}.csv'"
   ]
  },
  {
   "cell_type": "code",
   "execution_count": 3,
   "metadata": {},
   "outputs": [],
   "source": [
    "def split_by_punk(string):\n",
    "    string = string.replace('\\n', ' ')\n",
    "    sent_list = re.split('[.!?]', string)\n",
    "    return sent_list\n",
    "\n",
    "def parse_punk(string):\n",
    "    string = re.sub(r\"[^\\w\\d\\'\\-\\s]+\",\"\",string)\n",
    "    string = ' '.join(string.split())\n",
    "    return string    \n",
    "\n",
    "def write_to_file(file_name, content):\n",
    "    with open(file_name, 'w') as f:\n",
    "        for line in content:\n",
    "            f.write(line)\n",
    "    print(f\"{len(content)} sentences were written to {file_name}\")"
   ]
  },
  {
   "cell_type": "code",
   "execution_count": 4,
   "metadata": {},
   "outputs": [],
   "source": [
    "def parse_html_to_txts(html, output_eng_file, output_rus_file, w_threshold):\n",
    "\n",
    "    index, to_frame, rus_output, eng_output =0, [], [], []\n",
    "    \n",
    "    for chunk in html.split(\"id=\")[1:]:\n",
    "        eng_rus = chunk.split('</a>')[1].split('</td></tr><tr><td>')[0]\n",
    "        eng, rus = eng_rus.split('</td><td>')\n",
    "        eng_split, rus_split = split_by_punk(eng), split_by_punk(rus)\n",
    "        \n",
    "        # check that chunks have the same number of sentences \n",
    "        if len(eng_split) == len(rus_split):\n",
    "\n",
    "            for eng_sent, rus_sent in zip(eng_split, rus_split):\n",
    "                \n",
    "                if (len(eng_sent.split()) > w_threshold) and (len(rus_sent.split()) > w_threshold):\n",
    "                    parsed_eng = parse_punk(eng_sent)\n",
    "                    parsed_rus = parse_punk(rus_sent)\n",
    "                    \n",
    "                    rus_output.append(f'{index} {parsed_rus}\\n')\n",
    "                    eng_output.append(f'{index} {parsed_eng}\\n')\n",
    "\n",
    "                    to_frame.append((index, rus_sent, eng_sent, parsed_rus, parsed_eng))\n",
    "                    index+=1\n",
    "\n",
    "    write_to_file(output_eng_file, eng_output)\n",
    "    write_to_file(output_rus_file, rus_output)\n",
    "        \n",
    "    df = pd.DataFrame(to_frame, columns = [\"index\", \"rus_sent_w_punc\", \"eng_sent_w_punc\", \"rus_sent_clean\", \"eng_sent_clean\"])\n",
    "    \n",
    "    return df"
   ]
  },
  {
   "cell_type": "code",
   "execution_count": 5,
   "metadata": {},
   "outputs": [],
   "source": [
    "def filter_trans_by_sem_sim(model_name, path_to_translated_eng, path_to_rus, path_to_ountput_csv, eng_text, low_th, high_th):\n",
    "\n",
    "    with open(path_to_translated_eng, 'r') as file:\n",
    "        trans = file.readlines()\n",
    "\n",
    "    with open(path_to_rus, 'r') as file:\n",
    "        rus = file.readlines()\n",
    "\n",
    "    rus_corpus, trans_corpus = [], []\n",
    "\n",
    "    for r, t in zip(trans, rus):\n",
    "        _, r = re.sub(\"[.,\\n]\", \"\", r).split(' ', 1)\n",
    "        _, t = re.sub(\"[.,\\n]\", \"\", t).split(' ', 1)\n",
    "        rus_corpus.append(r)\n",
    "        trans_corpus.append(t)\n",
    "        \n",
    "    print('Loading Semantic model')\n",
    "    model = SentenceTransformer(model_name)\n",
    "    print('Building embeddings for russian text (from someone translation)...')\n",
    "    rus_embeddings = model.encode(rus_corpus)\n",
    "    print('Building embeddings for russian text (from Yandex translation)...')\n",
    "    trans_embeddings = model.encode(trans_corpus)\n",
    "    print('Predict semantic scores...')\n",
    "    scores = np.diag(cosine_similarity(rus_embeddings, trans_embeddings)).tolist()\n",
    "    \n",
    "    df_translated = pd.DataFrame(zip(scores, eng_text, rus_corpus, trans_corpus), columns = ['score','ENG', 'RUS_1', 'RUS_2'])\n",
    "    df_translated = df_translated.loc[(df_translated.score > low_th) & (df_translated.score < high_th)].sort_values(by=[\"score\"], ascending=False)\n",
    "    df_translated.to_csv(path_to_ountput_csv, index=False)\n",
    "    print(f\"Result translations of {df_translated.shape[0]} were saved to {path_to_ountput_csv}\")\n",
    "    return df_translated\n",
    "\n",
    "def print_examples(df, n_exmp, seed=1):\n",
    "    for row in  df.sample(n=n_exmp, random_state=seed).to_numpy():\n",
    "        print(f\"Semantic score: {row[0]:.3f} \\nENG: {row[1]}\\nRUS_1: {row[2]} \\nRUS_2: {row[3]}\\n{'-'*150}\")"
   ]
  },
  {
   "cell_type": "markdown",
   "metadata": {},
   "source": [
    "### Parsing downloaded HTML into rus and eng txt"
   ]
  },
  {
   "cell_type": "code",
   "execution_count": 6,
   "metadata": {},
   "outputs": [
    {
     "name": "stdout",
     "output_type": "stream",
     "text": [
      "7427 sentences were written to MartinIden_trans/test_eng.txt\n",
      "7427 sentences were written to MartinIden_trans/test_rus.txt\n"
     ]
    }
   ],
   "source": [
    "df_output = parse_html_to_txts(html=codecs.open(PATH_TO_HTML, 'r').read(),\n",
    "                               output_eng_file=PATH_TO_OUTPUT_ENG_TXT, \n",
    "                               output_rus_file= PATH_TO_OUTPUT_RUS_TXT,\n",
    "                               w_threshold=MIN_SENTENCE_LEN)"
   ]
  },
  {
   "cell_type": "markdown",
   "metadata": {},
   "source": [
    "* Here should be translation of file from PATH_TO_OUTPUT_RUS_TXT to PATH_TO_TRANSLATED_ENG_TXT"
   ]
  },
  {
   "cell_type": "markdown",
   "metadata": {},
   "source": [
    "###  Filtering translation based on semantic similarities of Russian references"
   ]
  },
  {
   "cell_type": "code",
   "execution_count": 7,
   "metadata": {},
   "outputs": [
    {
     "name": "stdout",
     "output_type": "stream",
     "text": [
      "Loading Semantic model\n",
      "Building embeddings for russian text (from someone translation)...\n",
      "Building embeddings for russian text (from Yandex translation)...\n",
      "Predict semantic scores...\n",
      "Result translations of 4877 were saved to MartinIden_trans/translated_Martin-Iden\n"
     ]
    }
   ],
   "source": [
    "df_translation = filter_trans_by_sem_sim(model_name=MULTILINGUAL_SEM_MODEL,\n",
    "                                         path_to_translated_eng=PATH_TO_TRANSLATED_ENG_TXT, \n",
    "                                         path_to_rus=PATH_TO_OUTPUT_RUS_TXT,\n",
    "                                         eng_text=df_output.eng_sent_clean.to_list(),\n",
    "                                         path_to_ountput_csv=PATH_TO_OUTPUT_CSV, \n",
    "                                         low_th=LOW_SEM_TH, high_th=HIGH_SEM_TH)"
   ]
  },
  {
   "cell_type": "code",
   "execution_count": 8,
   "metadata": {},
   "outputs": [
    {
     "name": "stdout",
     "output_type": "stream",
     "text": [
      "Semantic score: 0.854 \n",
      "ENG: You do corporation work\n",
      "RUS_1: Вы работаете в корпорации \n",
      "RUS_2: Вы работаете на акционерные компании\n",
      "------------------------------------------------------------------------------------------------------------------------------------------------------\n",
      "Semantic score: 0.731 \n",
      "ENG: Waiting on the corner for a car she had seen him first and noted the eager hungry lines of his face and the desperate worried look of his eyes\n",
      "RUS_1: Поджидая на углу машину она увидела его первой и заметила нетерпеливые голодные черты его лица и отчаянный обеспокоенный взгляд его глаз \n",
      "RUS_2: Гертруда ждала на углу трамвая и первая увидела брата заметила какое у него напряженное исхудалое лицо какое отчаяние и тревога в глазах\n",
      "------------------------------------------------------------------------------------------------------------------------------------------------------\n",
      "Semantic score: 0.809 \n",
      "ENG: There was a peach from West Oakland\n",
      "RUS_1: Там был персик из Западного Окленда \n",
      "RUS_2: Был там один красавчик из Западного Окленда\n",
      "------------------------------------------------------------------------------------------------------------------------------------------------------\n",
      "Semantic score: 0.719 \n",
      "ENG: His little kitchen was no longer graced with a variety of foods\n",
      "RUS_1: Его маленькая кухня больше не была украшена разнообразием блюд \n",
      "RUS_2: Он уже не стряпал разнообразные блюда\n",
      "------------------------------------------------------------------------------------------------------------------------------------------------------\n",
      "Semantic score: 0.794 \n",
      "ENG: She seemed to lean toward him to wait and all his will fought to hold him back\n",
      "RUS_1: Казалось она наклонилась к нему в ожидании и вся его воля боролась чтобы удержать его \n",
      "RUS_2: Ему казалось она подалась вперед ждала и он удержался лишь огромным усилием воли\n",
      "------------------------------------------------------------------------------------------------------------------------------------------------------\n",
      "Semantic score: 0.805 \n",
      "ENG: I know nothing of the sort\n",
      "RUS_1: Я ничего такого не знаю \n",
      "RUS_2: Ничего такого я не понимаю\n",
      "------------------------------------------------------------------------------------------------------------------------------------------------------\n",
      "Semantic score: 0.880 \n",
      "ENG: She was subject to the laws of the universe just as inexorably as he was\n",
      "RUS_1: Она подчинялась законам Вселенной так же неумолимо как и он \n",
      "RUS_2: Она подвластна законам вселенной так же неотвратимо как он\n",
      "------------------------------------------------------------------------------------------------------------------------------------------------------\n",
      "Semantic score: 0.874 \n",
      "ENG: There are such women and they will love you just as readily as any pusillanimous product of bourgeois sheltered life\n",
      "RUS_1: Есть такие женщины и они полюбят вас так же охотно как и любой малодушный продукт буржуазной замкнутой жизни \n",
      "RUS_2: Такие женщины есть и они полюбят вас с такой же готовностью как любая малодушная неженка выросшая под колпаком в буржуазной теплице\n",
      "------------------------------------------------------------------------------------------------------------------------------------------------------\n",
      "Semantic score: 0.875 \n",
      "ENG: Every spare moment was devoted to study\n",
      "RUS_1: Каждая свободная минута была посвящена учебе \n",
      "RUS_2: Каждую свободную минуту посвящал ученью\n",
      "------------------------------------------------------------------------------------------------------------------------------------------------------\n",
      "Semantic score: 0.808 \n",
      "ENG: A joyous light welled into her eyes then faded out again\n",
      "RUS_1: Радостный свет вспыхнул в ее глазах и снова погас \n",
      "RUS_2: Глаза Лиззи засветились радостным светом и снова погасли\n",
      "------------------------------------------------------------------------------------------------------------------------------------------------------\n"
     ]
    }
   ],
   "source": [
    "print_examples(df_translation, 10, seed=123)"
   ]
  }
 ],
 "metadata": {
  "kernelspec": {
   "display_name": "Python 3",
   "language": "python",
   "name": "python3"
  },
  "language_info": {
   "codemirror_mode": {
    "name": "ipython",
    "version": 3
   },
   "file_extension": ".py",
   "mimetype": "text/x-python",
   "name": "python",
   "nbconvert_exporter": "python",
   "pygments_lexer": "ipython3",
   "version": "3.8.3"
  }
 },
 "nbformat": 4,
 "nbformat_minor": 4
}
